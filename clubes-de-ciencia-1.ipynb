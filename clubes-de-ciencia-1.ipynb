{
 "cells": [
  {
   "cell_type": "markdown",
   "metadata": {},
   "source": [
    "¡Hola cluberos! Espero que estan muy emocionados en emprender este tutorial para al menos estar familiarizado con Python e iniciar con su aprendizaje. Empecemos con lo más básico. Ejecutar una ventana de código. Para esta tarea, sólo dale click en la celda de abajo y presionar simultaneamente shift y enter. "
   ]
  },
  {
   "cell_type": "code",
   "execution_count": null,
   "metadata": {
    "collapsed": true
   },
   "outputs": [],
   "source": [
    "x = 10 #define el límite hasta donde llega el marcapaso 'i'. \n",
    "for i in range(x): #literalmente es, para i en el rango(10) \n",
    "    print(i) #imprime i"
   ]
  },
  {
   "cell_type": "markdown",
   "metadata": {},
   "source": [
    "Lo anterior puede parecer algo inútil pero es notable ver que Python inicia con el cero e el último número como 10-1 = 9. A final de cuentas contamos con diez elementos.\n",
    "\n",
    "Una vez, más te pido que actives el siguente bloque de código, presionando simultaneamente shift y enter en cualquier lugar del código."
   ]
  },
  {
   "cell_type": "code",
   "execution_count": null,
   "metadata": {
    "collapsed": true
   },
   "outputs": [],
   "source": [
    "import random as rand #abre el módulo random para que hacer uso de sus herraminetas\n",
    "import numpy as np #abre el módulo numpy para que hacer uso de sus herraminetas \n",
    "import matplotlib.pyplot as plt #abre el módulo matplotlib.pyplot para que hacer uso de sus herraminetas\n",
    "\n",
    "l = list(range(1,101)) #crea una lista con los números enteros desde 1 hasta 100 y le asiganmos la variable 'l'\n",
    "x = rand.sample(l,1) #elige un número aleatoriamente de la lista 'l' y lo asignamos a la variable 'x' \n",
    "dx = 1/x[0] #asigna el inverso del primer número de la lista 'l' a la variable 'dx' \n",
    "xp = np.arange(-5,5+dx,dx) # crea un vector con los elementos desde -5 hasta 5, con un espaciamiento de 'dx' entre los elementos del vector  \n",
    "\n",
    "if x[0] in l[0:51]: #este command indica que ejecute el código identado debajo del mismo sólo si el primer elemento de la lista 'x', 'x[0]', esta dentro de los primeros 50 elementos de la lista 'l' \n",
    "    y = [] #crea una lista vacía\n",
    "    for i in range(5000): \n",
    "        y.append(rand.sample(l,1)[0])\n",
    "    bins = np.linspace(0, 51, 100)\n",
    "    plt.hist(y,bins)\n",
    "    plt.title('Histograma')\n",
    "    plt.xlabel('Frecuencia')\n",
    "    plt.ylabel('Valor')\n",
    "    plt.show()\n",
    "else:\n",
    "    f = 1/2*np.sinh(xp)+np.cosh(xp)\n",
    "    plt.plot(f,xp, label='$0.5 sinh(x)+cosh(x)$')\n",
    "    plt.legend()\n",
    "    plt.axis()\n",
    "    plt.title('Gráfica')\n",
    "    plt.xlabel('$x$')\n",
    "    plt.ylabel('$f(x)$')\n",
    "    plt.show()"
   ]
  },
  {
   "cell_type": "markdown",
   "metadata": {},
   "source": [
    "Como pueden observar, creamos una gráfica con tan sólo al presionar dos botones, sin tener que estar uniendo puntos con nuestros lapices u borrando el punto que hicimos por estar feo, etc. Es por esto y muchas otras razones por las cuales hemos desarrollado y utilizado lenguajes de programación. Al final del dia relegamos todas nuestras tareas tediosas a la computadora. Para ahorrarnos tiempo para otras cosas más importantes (idealmente). \n",
    "\n",
    "Así que demos inicio con este breve tutorial de python para que tengan las herramientas de triunfar en el curso y que después puedan aplicarlo en cualquier ambito que encuente útil.\n",
    "\n",
    "Python se ha vuelto bastante popular en el ambito académico y profesional debido a que es un lenguaje poco complicado de usar y entender, además de ser bastante eficiente para la ejecución para la mayoria de alogrítmos complejos. Por último, cuenta con muchos módulos que le implementan herramientas adicionales a los con que inicio. Ejemplos de módulos frequentemente utlizados son SciPy (funciones matemáticas, constantes matemáticos y físicos, implementación de vectores y matrices, etc.) y matplotlib (elaboración de gráficas elegantes y figuras). Veremos un poco de estos módulos un poco más adelante. \n",
    "\n",
    "Por lo mientas, vemos las siguientes lineas de código. Tienen que activa a todas las casillas con código manualmente al suprimir simultaneamente a enter y shift. Gracias!"
   ]
  },
  {
   "cell_type": "code",
   "execution_count": null,
   "metadata": {
    "collapsed": true
   },
   "outputs": [],
   "source": [
    "print('¡Hola Mundo!') #imprime el texto '¡Hola Mundo!'\n",
    "2*2 #multiplica 2 por 2\n",
    "12341+1 #suma esos dos números\n",
    "12342/2 #divide 12342 entre 2\n",
    "print(2*2) #imprime la multiplicación\n",
    "cuatro = 2*2 #asigna 2*2 a la variable cuatro\n",
    "print(cuatro) #imprime la variable cuatro"
   ]
  },
  {
   "cell_type": "markdown",
   "metadata": {},
   "source": [
    "Python sólo imprime lo que le pides, en este caso imprimimos '¡Hola Mundo!', 2*2 y cuatro. También es importante ver que al imprimir la variable cuatro, imprime lo que le fue asignado y no la palabra. Para ello habría que escribir la palabra dentro de comillas para imprimir la palabra 'cuatro'. Lo mismo ocurre con cualquier tipo de texto que quieras que imprima. "
   ]
  },
  {
   "cell_type": "code",
   "execution_count": null,
   "metadata": {
    "collapsed": true,
    "scrolled": true
   },
   "outputs": [],
   "source": [
    "print(cuatro)\n",
    "print('cuatro')"
   ]
  },
  {
   "cell_type": "markdown",
   "metadata": {
    "collapsed": true
   },
   "source": [
    "Ahora vemos los tipos de información que usa python y por lo mismo que tambien puede manipular. Son en total 7 tipos: \n",
    "- strings (texto, se crean cuando encerramos a cualquier secuencia de caracteres entre comillas)\n",
    "- booleanos (Procesos de comparación en donde al final terminaremos con una de dos respuestas, False (Falso) ó True (Verdadero))\n",
    "- integers (números enteros)\n",
    "- float (números flotante/reales)\n",
    "- tuples (listas inmutables-cuyos elementos no pueden ser alterados)\n",
    "- lists (listas mutables-cuyos elementos pueden ser alterados)\n",
    "- dictionaries (listas mutables pero que cada elemento esta definido por dos parametros, un valor y su llave)\n",
    "- arrays (listas que funcionan como vectores y matrices, sólo son disponibles con el módulo NumPY)\n",
    "\n",
    "A continuación veremos unos ejemplos con estas 'cosas'.  "
   ]
  },
  {
   "cell_type": "code",
   "execution_count": null,
   "metadata": {
    "collapsed": true
   },
   "outputs": [],
   "source": [
    "type(2) #el command type() nos devuelve que tipo de información contiene dentro de los parentesis, en este caso esperamos que sea int (número entero)\n",
    "type(2.) #al agregar el punto decimal en después del dos o cualquier número lo convierte en un número flotante o número real\n",
    "a = 2. + 2 #al sumar un número flotante con un número entero obtenemos el número correcto, pero ¿de qué tipo será el número resultante, float ó integer?\n",
    "print(a) #imprime a\n",
    "type(a) #identifica el tipo de información que es a"
   ]
  },
  {
   "cell_type": "markdown",
   "metadata": {},
   "source": [
    "¿Qué crees que pasará si sumamos números con texto? "
   ]
  },
  {
   "cell_type": "code",
   "execution_count": null,
   "metadata": {
    "collapsed": true
   },
   "outputs": [],
   "source": [
    "'a'+1\n",
    "'a'+1."
   ]
  },
  {
   "cell_type": "markdown",
   "metadata": {},
   "source": [
    "No se puede, marca un error por ser tipos de información incompatibles. Sin embargo no significa que podemos realizar operaciones aritmeticas y Booleanas entre los caracters de texto. Se muestra a continuación unos ejemplos.   "
   ]
  },
  {
   "cell_type": "code",
   "execution_count": null,
   "metadata": {
    "collapsed": true
   },
   "outputs": [],
   "source": [
    "print('2'*2) #repite '2' consecutivamente dos veces\n",
    "print('ab'*3) #concatena (repite al unir) el par de letras 'ab' tres veces \n",
    "print('ab'+'cd') #realiza la suma entre ambos pares de letras\n",
    "print('ab' in 'abcd') #indaga si 'ab' esta en (in) 'abcd', tal cual como aparece\n",
    "print('ab' in 'acdb') # Este ejemplo subraya algo importante, la manera en que busca 'ab' como un sólo elemento y no por separado.\n",
    "print(('a' and 'b') in 'acbd') #Este ejemplo indica si ambos, 'a' y 'b', están en 'acbd' de manera individual, donde 'and' es en español 'y' \n",
    "print(('a' or 'b') in 'aced') #Esta linea pregunta si 'a' ó (or) 'b' están en la lista 'aced'"
   ]
  },
  {
   "cell_type": "markdown",
   "metadata": {},
   "source": [
    "También podemos sólo seleccionar partes del texto/string, mediante los siguientes commands. Donde al lado izquierdo del ':' indica el límite inferior y al lado derecho el límite superior de nuestra selección."
   ]
  },
  {
   "cell_type": "code",
   "execution_count": null,
   "metadata": {},
   "outputs": [],
   "source": [
    "s = 'Es un gusto conocerlos' #asigno la frase 'Es un gusto conocerlos' a s\n",
    "print(s[0:1]) #El número con el que inicia python es el cero y no uno, por lo tanto sólo imprimirá la primera letra de s ('E') y para en la segunda letra ('s') sin reportarla. \n",
    "print(s[:]) #Como no indicamos ninguno de los límites, imprimos a toda s \n",
    "print(s[-1:]) #También podemos contar hacia atrás, por ejemplo al escojer la última palabra de la frase al poner -1 como nuestro límite inferior\n",
    "print(s[:-1]) #También sí ponemos en nuestro límite superior a -1, sin especificar él inferior, python supone que queremos a todos los lugares quienes ocupan números anteriores a -1. Por ejemplo, -2, -3, ... y nos regresa a todos los elementos de s menos él último\n",
    "print(s[-10:-1])\n",
    "print(s[12:21]) #Distintas maneras de seleccionar a la misma secuencia de letras"
   ]
  },
  {
   "cell_type": "markdown",
   "metadata": {},
   "source": [
    "Ahora que hemos visto un poco de lo básico de python, me gustaría que intentaran escribir un poco de código para las siguientes preguntas/instrucciones. Imprime lo siguiente:\n",
    "- indaga si 'abc' está en q (ya viene definido en la siguiente venta en donde escribirán su código)\n",
    "- ¿qué letras contiene q?\n",
    "- ¿qué tipo de información representa q (string, list, .., ¿cuál?)?\n",
    "- De la variable s, selecciona usando límites positivos y luego límites negativos 'un gusto'"
   ]
  },
  {
   "cell_type": "code",
   "execution_count": null,
   "metadata": {
    "collapsed": true
   },
   "outputs": [],
   "source": [
    "import string \n",
    "q = string.ascii_letters[22:40]\n",
    "#empiecen a escribir su código en esta caja!\n"
   ]
  },
  {
   "cell_type": "markdown",
   "metadata": {},
   "source": [
    "¡Ahora por favor juegen con el siguiente código, nada mas tienen que activarlo!"
   ]
  },
  {
   "cell_type": "code",
   "execution_count": null,
   "metadata": {},
   "outputs": [],
   "source": [
    "high = 100 # limite superior \n",
    "low = 0 # limite inferior\n",
    "print(\"Por favor piensa en un número entre 0 y 100!\") #imprime lo que esta en parentesis\n",
    "while True: # ejecuta lo que esta identado y debajo de este command\n",
    "    ans = (high+low)//2\n",
    "    print(\"¿Es tu número \"+str(ans)+\"?\") \n",
    "    x = input(\"Ingrese 'h' para indicar si la adivinanza fue muy alta ó 'l' para indicar que fue muy baja. Ingrese 'c' para indicar que lo adiviné correctamente.\")\n",
    "    if x == \"h\":\n",
    "        high = ans\n",
    "    elif x == \"l\":\n",
    "        low = ans\n",
    "    elif x == \"c\":\n",
    "        break\n",
    "    else: \n",
    "        print(\"Perdon pero no entendí tu input\")\n",
    "print(\"Fin de juego, tu número secreto fue: \"+ str(ans))    "
   ]
  },
  {
   "cell_type": "markdown",
   "metadata": {},
   "source": [
    "¿Qué les parecio el juego? Espero que les haya despertado un poco el interes de programar, ya que con sólo un simple aloritmo pudo adivinar el número en que estabas pensando. ¡Claro, con retroalimentación de ti! \n",
    "\n",
    "Espero que se hayan divertido un poco y que además hayan aprendido algo! Si tienen preguntas y sugerencias, no duden de escribirme en el grupo de face! \n",
    "\n",
    "Esta sólo es la primera de posiblmente tres partes. \n",
    "\n",
    "Nos vemos pronto!"
   ]
  }
 ],
 "metadata": {
  "kernelspec": {
   "display_name": "Python 3",
   "language": "python",
   "name": "python3"
  },
  "language_info": {
   "codemirror_mode": {
    "name": "ipython",
    "version": 3
   },
   "file_extension": ".py",
   "mimetype": "text/x-python",
   "name": "python",
   "nbconvert_exporter": "python",
   "pygments_lexer": "ipython3",
   "version": "3.6.1"
  }
 },
 "nbformat": 4,
 "nbformat_minor": 2
}
